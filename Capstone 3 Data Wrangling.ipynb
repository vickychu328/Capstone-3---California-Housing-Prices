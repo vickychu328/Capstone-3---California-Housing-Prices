{
 "cells": [
  {
   "cell_type": "code",
   "execution_count": 1,
   "id": "f67105f0",
   "metadata": {},
   "outputs": [
    {
     "name": "stderr",
     "output_type": "stream",
     "text": [
      "/Users/kachu/anaconda3/lib/python3.11/site-packages/pandas/core/arrays/masked.py:60: UserWarning: Pandas requires version '1.3.6' or newer of 'bottleneck' (version '1.3.5' currently installed).\n",
      "  from pandas.core import (\n"
     ]
    },
    {
     "name": "stdout",
     "output_type": "stream",
     "text": [
      "   longitude  latitude  housing_median_age  total_rooms  total_bedrooms  \\\n",
      "0    -122.23     37.88                41.0        880.0           129.0   \n",
      "1    -122.22     37.86                21.0       7099.0          1106.0   \n",
      "2    -122.24     37.85                52.0       1467.0           190.0   \n",
      "3    -122.25     37.85                52.0       1274.0           235.0   \n",
      "4    -122.25     37.85                52.0       1627.0           280.0   \n",
      "\n",
      "   population  households  median_income  median_house_value ocean_proximity  \n",
      "0       322.0       126.0         8.3252            452600.0        NEAR BAY  \n",
      "1      2401.0      1138.0         8.3014            358500.0        NEAR BAY  \n",
      "2       496.0       177.0         7.2574            352100.0        NEAR BAY  \n",
      "3       558.0       219.0         5.6431            341300.0        NEAR BAY  \n",
      "4       565.0       259.0         3.8462            342200.0        NEAR BAY  \n"
     ]
    }
   ],
   "source": [
    "import numpy as np # linear algebra\n",
    "import pandas as pd # data processing, CSV file I/O (e.g. pd.read_csv)\n",
    "\n",
    "housing_data = pd.read_csv(\"/Users/kachu/Desktop/DS/housing.csv\")        \n",
    "print(housing_data.head())"
   ]
  },
  {
   "cell_type": "code",
   "execution_count": 2,
   "id": "45cf7b4e",
   "metadata": {},
   "outputs": [
    {
     "name": "stdout",
     "output_type": "stream",
     "text": [
      "longitude               0\n",
      "latitude                0\n",
      "housing_median_age      0\n",
      "total_rooms             0\n",
      "total_bedrooms        207\n",
      "population              0\n",
      "households              0\n",
      "median_income           0\n",
      "median_house_value      0\n",
      "ocean_proximity         0\n",
      "dtype: int64\n"
     ]
    }
   ],
   "source": [
    "# Importing necessary libraries\n",
    "import numpy as np # Used for numerical operations, especially on arrays and matrices.\n",
    "import pandas as pd # Essential for data processing and reading CSV files.\n",
    "import matplotlib.pyplot as plt # For plotting graphs and charts.\n",
    "import seaborn as sns # Provides a high-level interface for drawing attractive and informative statistical graphics.\n",
    "from sklearn.impute import KNNImputer\n",
    "\n",
    "\n",
    "# Identify which cells have null values\n",
    "print(housing_data.isnull().sum())\n"
   ]
  },
  {
   "cell_type": "code",
   "execution_count": 3,
   "id": "9800d404",
   "metadata": {},
   "outputs": [
    {
     "name": "stdout",
     "output_type": "stream",
     "text": [
      "Dimensions : (20640, 10)\n",
      "Percentage of nulls for column `total_bedrooms` : 1.002906976744186\n"
     ]
    }
   ],
   "source": [
    "# Tells the size of the 2d array/tuple\n",
    "print(\"Dimensions :\", housing_data.shape)\n",
    "\n",
    "# Calculate the % of missing data\n",
    "print(\"Percentage of nulls for column `total_bedrooms` :\", housing_data[\"total_bedrooms\"].isnull().sum()/housing_data.shape[0]*100)\n",
    "\n",
    "\n"
   ]
  },
  {
   "cell_type": "code",
   "execution_count": 4,
   "id": "32c9562a",
   "metadata": {},
   "outputs": [
    {
     "name": "stdout",
     "output_type": "stream",
     "text": [
      "After imputation :  longitude             0\n",
      "latitude              0\n",
      "housing_median_age    0\n",
      "total_rooms           0\n",
      "total_bedrooms        0\n",
      "population            0\n",
      "households            0\n",
      "median_income         0\n",
      "median_house_value    0\n",
      "ocean_proximity       0\n",
      "dtype: int64\n"
     ]
    }
   ],
   "source": [
    "# Steps to handle missing data\n",
    "## 1. Identify columns which has missing data as separate data frame\n",
    "## 2. Use the KNNImputer to add missing data to this data frame\n",
    "## 3. Convert the imputer output array back to dataframe using column names from step #1\n",
    "## 4. Overlay the new columns which doesn't have any missing data on original data\n",
    "\n",
    "\n",
    "## 1. Identify columns which has missing data as separate data frame\n",
    "\n",
    "missing_data = housing_data.loc[:,housing_data.isnull().any()]\n",
    "\n",
    "## 2. Use the KNNImputer to add missing data to this data frame\n",
    "\n",
    "# Initializing KNNImputer with 3 neighbors\n",
    "imputer = KNNImputer(n_neighbors=3)\n",
    "\n",
    "# Applying imputation returns nd array\n",
    "transformed_data_array = imputer.fit_transform(missing_data)\n",
    "\n",
    "## 3. Convert the imputer output array back to dataframe using column names from step #1\n",
    "\n",
    "transformed_data = pd.DataFrame(data = transformed_data_array, columns = missing_data.columns)\n",
    "transformed_data.isnull().sum()\n",
    "\n",
    "## 4. Overlay the new columns which doesn't have any missing data on original data\n",
    "\n",
    "for column in missing_data.columns: \n",
    "    housing_data[column] = transformed_data.replace(housing_data[column],housing_data[column])\n",
    "\n",
    "print(\"After imputation : \", housing_data.isnull().sum())"
   ]
  },
  {
   "cell_type": "code",
   "execution_count": 5,
   "id": "6b701b92",
   "metadata": {},
   "outputs": [
    {
     "name": "stdout",
     "output_type": "stream",
     "text": [
      "<class 'pandas.core.frame.DataFrame'>\n",
      "RangeIndex: 20640 entries, 0 to 20639\n",
      "Data columns (total 10 columns):\n",
      " #   Column              Non-Null Count  Dtype  \n",
      "---  ------              --------------  -----  \n",
      " 0   longitude           20640 non-null  float64\n",
      " 1   latitude            20640 non-null  float64\n",
      " 2   housing_median_age  20640 non-null  float64\n",
      " 3   total_rooms         20640 non-null  float64\n",
      " 4   total_bedrooms      20640 non-null  float64\n",
      " 5   population          20640 non-null  float64\n",
      " 6   households          20640 non-null  float64\n",
      " 7   median_income       20640 non-null  float64\n",
      " 8   median_house_value  20640 non-null  float64\n",
      " 9   ocean_proximity     20640 non-null  object \n",
      "dtypes: float64(9), object(1)\n",
      "memory usage: 1.6+ MB\n"
     ]
    }
   ],
   "source": [
    "housing_data.info()"
   ]
  },
  {
   "cell_type": "code",
   "execution_count": null,
   "id": "48c875a4",
   "metadata": {},
   "outputs": [],
   "source": []
  }
 ],
 "metadata": {
  "kernelspec": {
   "display_name": "Python 3 (ipykernel)",
   "language": "python",
   "name": "python3"
  },
  "language_info": {
   "codemirror_mode": {
    "name": "ipython",
    "version": 3
   },
   "file_extension": ".py",
   "mimetype": "text/x-python",
   "name": "python",
   "nbconvert_exporter": "python",
   "pygments_lexer": "ipython3",
   "version": "3.11.3"
  }
 },
 "nbformat": 4,
 "nbformat_minor": 5
}
